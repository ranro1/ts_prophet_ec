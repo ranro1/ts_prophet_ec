{
 "cells": [
  {
   "cell_type": "code",
   "execution_count": 1,
   "id": "67468efd",
   "metadata": {},
   "outputs": [
    {
     "ename": "ModuleNotFoundError",
     "evalue": "No module named 'pandas'",
     "output_type": "error",
     "traceback": [
      "\u001b[31m---------------------------------------------------------------------------\u001b[39m",
      "\u001b[31mModuleNotFoundError\u001b[39m                       Traceback (most recent call last)",
      "\u001b[36mCell\u001b[39m\u001b[36m \u001b[39m\u001b[32mIn[1]\u001b[39m\u001b[32m, line 1\u001b[39m\n\u001b[32m----> \u001b[39m\u001b[32m1\u001b[39m \u001b[38;5;28;01mimport\u001b[39;00m\u001b[38;5;250m \u001b[39m\u001b[34;01mpandas\u001b[39;00m\u001b[38;5;250m \u001b[39m\u001b[38;5;28;01mas\u001b[39;00m\u001b[38;5;250m \u001b[39m\u001b[34;01mpd\u001b[39;00m\n\u001b[32m      2\u001b[39m \u001b[38;5;28;01mimport\u001b[39;00m\u001b[38;5;250m \u001b[39m\u001b[34;01mnumpy\u001b[39;00m\u001b[38;5;250m \u001b[39m\u001b[38;5;28;01mas\u001b[39;00m\u001b[38;5;250m \u001b[39m\u001b[34;01mnp\u001b[39;00m\n\u001b[32m      3\u001b[39m \u001b[38;5;28;01mimport\u001b[39;00m\u001b[38;5;250m \u001b[39m\u001b[34;01mscipy\u001b[39;00m\u001b[38;5;250m \u001b[39m\u001b[38;5;28;01mas\u001b[39;00m\u001b[38;5;250m \u001b[39m\u001b[34;01msp\u001b[39;00m\n",
      "\u001b[31mModuleNotFoundError\u001b[39m: No module named 'pandas'"
     ]
    }
   ],
   "source": [
    "import pandas as pd\n",
    "import numpy as np\n",
    "import scipy as sp\n",
    "import prophet\n",
    "from sklearn.metrics import mean_squared_error\n",
    "import matplotlib.pyplot as plt\n",
    "import seaborn as sns\n",
    "from statsmodels.tsa.seasonal import seasonal_decompose\n",
    "import warnings\n",
    "warnings.filterwarnings('ignore')"
   ]
  },
  {
   "cell_type": "markdown",
   "id": "64c54c15",
   "metadata": {},
   "source": [
    "# EDA"
   ]
  },
  {
   "cell_type": "code",
   "execution_count": null,
   "id": "0007a268",
   "metadata": {},
   "outputs": [],
   "source": [
    "# read data\n",
    "data_path = '../Data/Electric_Consumption.csv'\n",
    "df=pd.read_csv(data_path)"
   ]
  },
  {
   "cell_type": "code",
   "execution_count": null,
   "id": "1ab17896",
   "metadata": {},
   "outputs": [],
   "source": [
    "print(df.shape)\n",
    "df.head()"
   ]
  },
  {
   "cell_type": "code",
   "execution_count": null,
   "id": "6e04bde4",
   "metadata": {},
   "outputs": [],
   "source": [
    "df.info()"
   ]
  },
  {
   "cell_type": "code",
   "execution_count": null,
   "id": "2a17b51a",
   "metadata": {},
   "outputs": [],
   "source": [
    "df['Service End Date'].nunique()"
   ]
  },
  {
   "cell_type": "code",
   "execution_count": null,
   "id": "f3f6115e",
   "metadata": {},
   "outputs": [],
   "source": [
    "df['Location'].nunique()"
   ]
  },
  {
   "cell_type": "markdown",
   "id": "334504c6",
   "metadata": {},
   "source": [
    "The data was collected seperatly by `location`. For completenece, we chose to aggregate the data using `mean()` over the 5 different Boroughs. Since the number of buildings (i.e, `location`) doesn't represent the entire NYC area."
   ]
  },
  {
   "cell_type": "code",
   "execution_count": null,
   "id": "a0f11289",
   "metadata": {},
   "outputs": [],
   "source": [
    "# convert to datetime and rename columns\n",
    "df['Service Start Date'] = pd.to_datetime(df['Service Start Date'])\n",
    "df['Date'] = pd.to_datetime(df['Service End Date'])\n",
    "df['EC'] = df['Consumption (KWH)']\n",
    "\n",
    "# set Date as index\n",
    "df.set_index('Date', inplace=True)"
   ]
  },
  {
   "cell_type": "code",
   "execution_count": null,
   "id": "5135b2da",
   "metadata": {},
   "outputs": [],
   "source": [
    "# resampling to monthly end date\n",
    "df_mean = df[['EC']]\n",
    "df_mean = df_mean.resample('ME').mean()\n",
    "print(df_mean.shape)\n",
    "df_mean.head()"
   ]
  },
  {
   "cell_type": "code",
   "execution_count": null,
   "id": "346e0857",
   "metadata": {},
   "outputs": [],
   "source": [
    "# date range of the dataset\n",
    "df_mean.index[0], df_mean.index[-1]"
   ]
  },
  {
   "cell_type": "code",
   "execution_count": null,
   "id": "46ce34eb",
   "metadata": {},
   "outputs": [],
   "source": [
    "plt.ylabel('Consumption (KWH)')\n",
    "plt.xlabel('Service Start Date')\n",
    "plt.title('Electric Consumption Over Time')\n",
    "plt.plot(df_mean.index, df_mean['EC'])\n",
    "plt.xticks(rotation=45)\n",
    "plt.show()"
   ]
  },
  {
   "cell_type": "markdown",
   "id": "d516cdbd",
   "metadata": {},
   "source": [
    "*NOTES*:\n",
    "* In 2011, 2018 it seems there are missing data.\n",
    "* At the start of 2011, there is an outlier caused by a spike in 'Queens' data.\n",
    "* At 2018, the outlier is caused by Manhattan data, as it has missing consumption."
   ]
  },
  {
   "cell_type": "code",
   "execution_count": null,
   "id": "da2d81b8",
   "metadata": {},
   "outputs": [],
   "source": [
    "# df_mean[df_mean.index.year==2018]\n",
    "# df[df.index.year==2018]"
   ]
  }
 ],
 "metadata": {
  "kernelspec": {
   "display_name": "ts_prohpet",
   "language": "python",
   "name": "python3"
  },
  "language_info": {
   "codemirror_mode": {
    "name": "ipython",
    "version": 3
   },
   "file_extension": ".py",
   "mimetype": "text/x-python",
   "name": "python",
   "nbconvert_exporter": "python",
   "pygments_lexer": "ipython3",
   "version": "3.12.0"
  }
 },
 "nbformat": 4,
 "nbformat_minor": 5
}
